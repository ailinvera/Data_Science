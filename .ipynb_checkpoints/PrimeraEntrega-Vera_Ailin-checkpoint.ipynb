{
 "cells": [
  {
   "cell_type": "markdown",
   "metadata": {},
   "source": [
    "<h1 style=\"font-size:55px; \n",
    "           color:lightblue;\n",
    "           font-weight:bold;\n",
    "           text-align:center\">\n",
    "    Primera Entrega Proyecto DS</h1>\n",
    "    <h2 style=\"font-size:45px; \n",
    "           color:royalblue;\n",
    "           font-weight:bold;\n",
    "           text-align:center;\n",
    "           border-top:3px solid royalblue;\n",
    "           border-bottom:3px solid royalblue\">\n",
    "    Predicción de cáncer de pulmón</h2>\n",
    "\n",
    "\n",
    "Autor: Ailin Vera\n",
    "\n",
    "Comisión: 42365\n",
    "\n",
    "Profesor: Rubén Darío González Rodríguez\n",
    "\n",
    "Tutor: Pedro Miguel Perez Camacho"
   ]
  },
  {
   "cell_type": "markdown",
   "metadata": {},
   "source": [
    "### Índice\n",
    "\n",
    "1. [Introducción](#Introducción)\n",
    "2. [Objetivo](#Objetivo)\n",
    "3. [Contexto y problemática comercial](#Contexto-y-problemática-comercial)\n",
    "4. [Motivación](#Motivación)\n",
    "5. [Alcance](#Alcance)\n",
    "6. [Hipótesis](#Hipótesis)\n",
    "7. [Análisis Exploratorio de los datos](#Análisis-Exploratorio-de-los-datos)\n",
    "\n",
    "\n",
    "\n",
    "\n",
    "\n"
   ]
  },
  {
   "cell_type": "markdown",
   "metadata": {},
   "source": [
    "### Introducción\n",
    "----\n",
    "\n",
    "Una de las problemáticas principales de la humanidad desde el comienzo de los tiempos se manifiesta en las debilidades fisionómicas que surgen a través de enfermedades. A pesar de los avances tecnológicos que ayudaron enormemente a la medicina a lo largo de las décadas y que crece a pasos agigantados, todavía nos encontramos con dificultades para batallar contra algunas enfermedades que, si se dejan propagar en el cuerpo, pueden resultar mortales.\n",
    "\n",
    "Este es el caso de algunos tipos de cáncer, siendo uno de los más comunes y que más personas se ha cobrado el cáncer de pulmón, principalmente en las últimas décadas con el aumento de emisiones de dióxido de carbono en la atmósfera, con los cigarrillos y los cigarrillos electrónicos más en la actualidad.\n",
    "\n",
    "Siendo las enfermedades y en este caso particular el cáncer de pulmón una problemática de la actualidad que se desea erradicar tanto las empresas farmacéuticas como las organizaciones que luchan contra las enfermedades comienzan a emplear los registros médicos de los pacientes como datos que generan gran valor a estas entidades debido a que con un correcto análisis de los mismos y con modelos de ciencia de datos se puede intentar predecir qué pacientes pueden llegar a tener cáncer y determinar factores de riesgo mayores interpretando las costumbres de los pacientes.\n",
    "\n",
    "De forma explícita, la importancia de todo el análisis que se desarrollará en este proyecto puede llegar a salvar vidas de potenciales pacientes de cáncer de pulmón, concientizando a la sociedad sobre los factores de riesgo y las maneras de prevenir esta enfermedad, para así poder erradicarla, en una predicción adelantada, a largo plazo.\n",
    "\n"
   ]
  },
  {
   "cell_type": "markdown",
   "metadata": {},
   "source": [
    "### Objetivo\n",
    "----\n",
    "\n",
    "El set de datos elegido para este proyecto es el que se observa en el archivo 'cancer_pulmon.csv', dentro de la carpeta de Google Drive 'Data Science'*. El objetivo principal a priori es poder relacionar las características físicas y los hábitos de los pacientes con la condición de si tienen o no cáncer. Espero a posteriori poder utilizar modelos predictivos para acertar lo mejor posible a la población que puede llegar a padecer cáncer de pulmón."
   ]
  },
  {
   "cell_type": "markdown",
   "metadata": {},
   "source": [
    "### Contexto y problemática comercial\n",
    "----\n",
    "\n",
    "Siendo del equipo de científicos de Datos de una farmacéutica multinacional que se dedica a encontrar curas para los diferentes tipos de cáncer, se solicitó realizar un análisis exploratorio de los datos que los médicos toman de los pacientes y así poder determinar las posibles causas que lo generan.\n",
    "\n",
    "La problemática comercial que se nos presenta es si con estos datos podemos encontrar patrones entre los pacientes que puedan ayudarnos a identificar las posibles causas más comunes y si existe relación con las características físicas de las personas."
   ]
  },
  {
   "cell_type": "markdown",
   "metadata": {},
   "source": [
    "### Motivación\n",
    "----\n",
    "La motivación para realizar este proyecto, además de aprender a realizar modelos predictivos, es poder establecer parámetros de características físicas y de comportamiento de los pacientes que tienen esta enfermedad, para así utilizarlos como referencia a la hora de intentar predecir el cáncer en las personas y así poder prevenir la enfermedad y salvar millones de vidas.\n"
   ]
  },
  {
   "cell_type": "markdown",
   "metadata": {},
   "source": [
    "### Alcance\n",
    "----\n",
    "A pesar de que este proyecto está siendo realizado para una empresa privada espero que pueda llegar a cualquier persona que desee no sólo aprender sobre Ciencia de Datos sino también a médicos y organizaciones que puedan ampliar sus conocimientos y sus capacidades para combatir esta enfermedad."
   ]
  },
  {
   "cell_type": "markdown",
   "metadata": {},
   "source": [
    "### Hipótesis\n",
    "----\n",
    "A continuación se desgloza un listado de las primeras hipótesis a probar con el análisis exploratorio de los datos:\n",
    "\n",
    "1.   El rango de edad promedio va entre 40 y 70 años, ya que el cáncer de pulmón suele generarse principalmente en pacientes que son fumadores activos pero siendo adultos, estipulo que el cáncer de pulmón lleva muchos años en formarse en el cuerpo y que requiere muchos años de consumo de cigarrillos.\n",
    "\n",
    "2.   La nacionalidad que más pacientes puede presentar es estadounidense. Este país es propenso a presentar excesos en cuanto a salud, teniendo una de las tasas mundiales de obesidad más altas podría ser referente además en cuanto a cáncer de pulmón se trata. Esto sólo lo puede confirmar un análisis de los datos.\n",
    "\n",
    "3.   Los pacientes con cáncer suelen tener más propensión a estar asociados a\n",
    "fumar y consumir alcohol.\n",
    "\n",
    "Considero fundamentales estas hipótesis debido a que me darán una buena aproximación de lo que se busca realizar con este proyecto a posteriori. Conocería en principio las características fisiológicas de los pacientes, en este caso la edad, el país que más pacientes presenta y los hábitos que se consideran los factores de riesgo más grandes.\n"
   ]
  },
  {
   "cell_type": "markdown",
   "metadata": {},
   "source": []
  },
  {
   "cell_type": "markdown",
   "metadata": {},
   "source": [
    "### Análisis Exploratorio de los datos**\n",
    "\n",
    "A continuación se mostrará un análisis de los datos para poder entender y luego interpretar de manera correcta los datos al realizar los gráficos.\n",
    "\n",
    "Pasos a realizar para el análisis exploratorio de los datos:\n",
    "1. Importar la librerías necesarias.\n",
    "2. Cargar el set de datos y visualizarlo.\n",
    "3. Observar si existen datos nulos.\n",
    "4. Acomodar el set de datos y \"ponerlo lindo\".\n",
    "5. Conocer la cantidad de pacientes y la agrupación por género y condición sí o no de cáncer.\n",
    "6. Gráfico de barras comparativo: género y condición sí o no de cáncer.\n",
    "7. Agrupación de los pacientes por género.\n",
    "8. Gráfico de densidad: cantidad de pacientes por edad y por género, aplicando condición de cáncer sí o no.\n",
    "9. Gráficos de mapa: cantidad de pacientes con cáncer por país vs cantidad de pacientes sin cáncer por país.\n",
    "10. Gráfico de telaraña: relación de los pacientes con los hábitos más comunes."
   ]
  },
  {
   "cell_type": "code",
   "execution_count": null,
   "metadata": {},
   "outputs": [],
   "source": []
  },
  {
   "cell_type": "code",
   "execution_count": null,
   "metadata": {},
   "outputs": [],
   "source": []
  },
  {
   "cell_type": "code",
   "execution_count": null,
   "metadata": {},
   "outputs": [],
   "source": []
  }
 ],
 "metadata": {
  "kernelspec": {
   "display_name": "Python 3 (ipykernel)",
   "language": "python",
   "name": "python3"
  },
  "language_info": {
   "codemirror_mode": {
    "name": "ipython",
    "version": 3
   },
   "file_extension": ".py",
   "mimetype": "text/x-python",
   "name": "python",
   "nbconvert_exporter": "python",
   "pygments_lexer": "ipython3",
   "version": "3.9.12"
  }
 },
 "nbformat": 4,
 "nbformat_minor": 2
}
